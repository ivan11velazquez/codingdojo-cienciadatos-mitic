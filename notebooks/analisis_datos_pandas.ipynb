{
 "cells": [
  {
   "cell_type": "markdown",
   "metadata": {},
   "source": [
    "Carga de datos desde archivo csv"
   ]
  },
  {
   "cell_type": "code",
   "execution_count": null,
   "metadata": {},
   "outputs": [],
   "source": [
    "import pandas as pd\n",
    "\n",
    "df = pd.read_csv('../data/vgsales.csv')\n"
   ]
  },
  {
   "cell_type": "markdown",
   "metadata": {},
   "source": [
    "Mostrar los 10 primeros datos del dataframe\n"
   ]
  },
  {
   "cell_type": "code",
   "execution_count": null,
   "metadata": {},
   "outputs": [],
   "source": [
    "print(df.head(10))"
   ]
  },
  {
   "cell_type": "markdown",
   "metadata": {},
   "source": [
    "Exploracion inicial de datos"
   ]
  },
  {
   "cell_type": "code",
   "execution_count": null,
   "metadata": {},
   "outputs": [],
   "source": [
    "print(\"Últimas filas del DataFrame:\")\n",
    "print(df.tail(5))\n",
    "print('\\n')\n",
    "print(\"Información del DataFrame:\")\n",
    "print(df.info())\n",
    "print('\\n')\n",
    "print(\"Estadísticas descriptivas del DataFrame:\")\n",
    "print(df.describe())\n",
    "print('\\n')"
   ]
  },
  {
   "cell_type": "markdown",
   "metadata": {},
   "source": [
    "Inspeccion de datos"
   ]
  },
  {
   "cell_type": "code",
   "execution_count": null,
   "metadata": {},
   "outputs": [],
   "source": [
    "print(\"Tipos de datos de las columnas:\")\n",
    "print(df.dtypes)\n",
    "print(\"\\nConteo de valores unicos de la columna Genre\")\n",
    "print(df['Genre'].value_counts())\n",
    "print(\"\\nValores unicos de la columna Platform\")\n",
    "print(df['Platform'].unique())"
   ]
  },
  {
   "cell_type": "markdown",
   "metadata": {},
   "source": [
    "Filtrado de datos"
   ]
  },
  {
   "cell_type": "code",
   "execution_count": null,
   "metadata": {},
   "outputs": [],
   "source": [
    "ventas_eeuu = df[df['NA_Sales'] > 1]\n",
    "print(ventas_eeuu)\n",
    "ventas_japon = df[df['JP_Sales'] < 0.1]\n",
    "print(ventas_japon)\n",
    "genero_filtrado = df.query('Genre == \\'Action\\' & Global_Sales > 2')\n",
    "print(genero_filtrado)"
   ]
  },
  {
   "cell_type": "markdown",
   "metadata": {},
   "source": [
    "Slicing de datos"
   ]
  },
  {
   "cell_type": "code",
   "execution_count": null,
   "metadata": {},
   "outputs": [],
   "source": [
    "slice1= df[['Name', 'Global_Sales' ]]\n",
    "print(slice1)\n",
    "slice2 = df.loc[5:10, 'Name':'Genre']\n",
    "print(slice2)\n",
    "slice3 = df.iloc[0:5, 0:3]\n",
    "print(slice3)"
   ]
  }
 ],
 "metadata": {
  "kernelspec": {
   "display_name": "env_ds",
   "language": "python",
   "name": "python3"
  },
  "language_info": {
   "codemirror_mode": {
    "name": "ipython",
    "version": 3
   },
   "file_extension": ".py",
   "mimetype": "text/x-python",
   "name": "python",
   "nbconvert_exporter": "python",
   "pygments_lexer": "ipython3",
   "version": "3.12.7"
  }
 },
 "nbformat": 4,
 "nbformat_minor": 2
}
