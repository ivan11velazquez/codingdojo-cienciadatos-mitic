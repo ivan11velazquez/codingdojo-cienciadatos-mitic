{
 "cells": [
  {
   "cell_type": "code",
   "execution_count": null,
   "metadata": {},
   "outputs": [],
   "source": [
    "import pandas as pd\n",
    "\n",
    "def limpiar_datos_duplicados():\n",
    "    ''' \n",
    "    Se eliminan los duplicados\n",
    "    '''\n",
    "    print(\"Cantidad de duplicados\")\n",
    "    print(df.duplicated().value_counts())\n",
    "    df.drop_duplicates(inplace=True)\n",
    "\n",
    "def manejar_datos_faltantes():\n",
    "    ''' \n",
    "    Las columnas platform y app_version no pueden ser inferidos en caso de ser nulos, se reemplaza con N/A\n",
    "\n",
    "    '''\n",
    "    df['platform'].fillna('N/A')\n",
    "    df['app_version'].fillna('N/A')\n",
    "\n",
    "\n",
    "def convertir_a_tipo_dato_correcto():\n",
    "    '''\n",
    "    Metodo usado para convertir columnas del tipo object a tipo string\n",
    "    '''\n",
    "    df['platform'] = df['platform'].astype('string')\n",
    "    df['country'] = df['country'].astype('string')\n",
    "    df.info()\n",
    "\n",
    "\n",
    "def manejar_datos_inapropiados():\n",
    "    ''' \n",
    "    La cantidad de sesiones por dia y la cantidad de minutos por sesion no puede superar la cantidad de minutos que tiene un dia\n",
    "    '''\n",
    "\n",
    "    sesiones_inconsistentes = df.query('session_duration * number_of_sessions > 1440').index()\n",
    "    df.drop(sesiones_inconsistentes, inplace=True)\n",
    "\n",
    "    feedback_menor_1 = df.query('user_feedback < 1').index()\n",
    "    feedback_mayor_5 = df.query('user_feedback > 5').index()\n",
    "    df.loc[feedback_menor_1, 'user_feedback'] = 1\n",
    "    df.loc[feedback_mayor_5, 'user_feedback'] = 5\n",
    "\n",
    "\n",
    "def manejar_inconsistencias_datos_categoricos():\n",
    "    ''' \n",
    "    Se permite solamente dos tipos de SO: Android e iOS, se busca formatear correctamente los nombres de los SO, y descartar los que no sean\n",
    "    plataformas moviles, debido a que se buscan saber datos de estas plataformas unicamente \n",
    "    '''\n",
    "    df['platform'] = df['platform'].apply(lambda x: 'Android' if x.casefold() == 'android' else ('iOS' if x.casefold() == 'ios' else 'N/A') )\n",
    "    plataformas_no_validas = df.query('platform = N/A').index()\n",
    "    df.drop(plataformas_no_validas, inplace=True)\n",
    "\n",
    "    \n",
    "\n",
    "df = pd.read_csv('../data/user_app_data.csv')\n",
    "limpiar_datos_duplicados()\n",
    "convertir_a_tipo_dato_correcto()\n",
    "manejar_inconsistencias_datos_categoricos()\n",
    "manejar_datos_faltantes()\n",
    "manejar_datos_inapropiados()\n",
    "\n",
    " \n"
   ]
  },
  {
   "cell_type": "markdown",
   "metadata": {},
   "source": []
  }
 ],
 "metadata": {
  "kernelspec": {
   "display_name": "env_ds",
   "language": "python",
   "name": "python3"
  },
  "language_info": {
   "codemirror_mode": {
    "name": "ipython",
    "version": 3
   },
   "file_extension": ".py",
   "mimetype": "text/x-python",
   "name": "python",
   "nbconvert_exporter": "python",
   "pygments_lexer": "ipython3",
   "version": "3.12.7"
  }
 },
 "nbformat": 4,
 "nbformat_minor": 2
}
